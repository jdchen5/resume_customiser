{
 "cells": [
  {
   "cell_type": "code",
   "execution_count": 8,
   "id": "984fb281-a828-4583-8114-7a0e8fa13c41",
   "metadata": {},
   "outputs": [
    {
     "name": "stdout",
     "output_type": "stream",
     "text": [
      "Current Working Directory: C:\\Users\\jdche\\Documents\\GitHub\\resume_customiser\n",
      "Error: 403 {\"message\":\"You cannot consume this service\"}\n"
     ]
    }
   ],
   "source": [
    "from dotenv import load_dotenv\n",
    "\n",
    "import requests\n",
    "import json\n",
    "import os\n",
    "\n",
    "\n",
    "load_dotenv()\n",
    "API_KEY = os.getenv(\"API_KEY\")  # Replace with your actual key\n",
    "API_URL = \"https://api.apilayer.com/resume_parser/upload\"\n",
    "\n",
    "def parse_resume(file_path):\n",
    "    print(f\"[DEBUG] Uploading file: {file_path}\")\n",
    "    headers = {\"apikey\": API_KEY}\n",
    "    with open(file_path, 'rb') as f:\n",
    "        files = {'file': f}\n",
    "        response = requests.post(API_URL, headers=headers, files=files)\n",
    "    print(f\"[DEBUG] API Status Code: {response.status_code}\")\n",
    "    if response.status_code == 200:\n",
    "        print(\"[DEBUG] API call successful. Parsing JSON...\")\n",
    "        return response.json()\n",
    "    else:\n",
    "        print(\"[ERROR] API call failed.\")\n",
    "        print(\"Status Code:\", response.status_code)\n",
    "        print(\"Response Text:\", response.text)\n",
    "        return None\n",
    "\n",
    "def save_to_json(data, out_file='data/parsed_json/parsed_resume.json'):\n",
    "    os.makedirs(os.path.dirname(out_file), exist_ok=True)\n",
    "    print(f\"[DEBUG] Saving parsed data to {out_file}\")\n",
    "    with open(out_file, 'w') as f:\n",
    "        json.dump(data, f, indent=4)\n",
    "    print(f\"Saved parsed data to {out_file}\")\n",
    "\n",
    "def extract_roles_and_keywords(data):\n",
    "    print(\"[DEBUG] Extracting roles and keywords...\")\n",
    "    roles = []\n",
    "    keywords = data.get('skills', [])\n",
    "    experience = data.get('experience', [])\n",
    "    for job in experience:\n",
    "        roles.append({\n",
    "            \"job_title\": job.get(\"job_title\", \"\"),\n",
    "            \"company\": job.get(\"company\", \"\"),\n",
    "            \"description\": job.get(\"description\", \"\"),\n",
    "            \"location\": job.get(\"location\", \"\"),\n",
    "            \"start_date\": job.get(\"start_date\", \"\"),\n",
    "            \"end_date\": job.get(\"end_date\", \"\")\n",
    "        })\n",
    "    print(f\"[INFO] Found {len(roles)} roles and {len(keywords)} keywords.\")\n",
    "    return roles, keywords\n",
    "\n",
    "# ===== RUN SCRIPT =====\n",
    "if __name__ == '__main__':\n",
    "    file_path = \"data/resumes/your_resume.pdf\"  # Replace with your file path\n",
    "    print(\"=== Resume Parser Debug ===\")\n",
    "    print(\"[DEBUG] Current Working Directory:\", os.getcwd())\n",
    "\n",
    "    # Show absolute file path for clarity\n",
    "    abs_path = os.path.abspath(file_path)\n",
    "    print(\"[DEBUG] Looking for file at:\", abs_path)\n",
    "    \n",
    "    if os.path.exists(file_path):\n",
    "        print(\"[INFO] File found. Proceeding with parsing...\")\n",
    "        parsed_data = parse_resume(file_path)\n",
    "        if parsed_data:\n",
    "            save_to_json(parsed_data)\n",
    "            roles, keywords = extract_roles_and_keywords(parsed_data)\n",
    "            print(\"\\n=== Job Roles Found ===\")\n",
    "            for r in roles:\n",
    "                print(f\"- {r['job_title']} at {r['company']} ({r['start_date']} to {r['end_date']})\")\n",
    "\n",
    "            print(\"\\n=== Extracted Keywords ===\")\n",
    "            print(\", \".join(keywords))\n",
    "    else:\n",
    "        print(f\"[ERROR] File '{file_path}' not found.\")\n",
    "        print(\"[HINT] Check the file name and that it exists in the correct directory.\")\n"
   ]
  },
  {
   "cell_type": "code",
   "execution_count": null,
   "id": "d8353ce9-5153-4d58-aa82-17c8e0fd209a",
   "metadata": {},
   "outputs": [],
   "source": []
  },
  {
   "cell_type": "code",
   "execution_count": null,
   "id": "de6a0fcd-2d9b-4979-906a-9d5c44dbb9fc",
   "metadata": {},
   "outputs": [],
   "source": []
  }
 ],
 "metadata": {
  "kernelspec": {
   "display_name": "Python 3 (ipykernel)",
   "language": "python",
   "name": "python3"
  },
  "language_info": {
   "codemirror_mode": {
    "name": "ipython",
    "version": 3
   },
   "file_extension": ".py",
   "mimetype": "text/x-python",
   "name": "python",
   "nbconvert_exporter": "python",
   "pygments_lexer": "ipython3",
   "version": "3.11.11"
  }
 },
 "nbformat": 4,
 "nbformat_minor": 5
}
